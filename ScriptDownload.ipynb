{
  "nbformat": 4,
  "nbformat_minor": 0,
  "metadata": {
    "colab": {
      "name": "ScriptDownload.ipynb",
      "version": "0.3.2",
      "provenance": [],
      "include_colab_link": true
    },
    "kernelspec": {
      "name": "python3",
      "display_name": "Python 3"
    }
  },
  "cells": [
    {
      "cell_type": "markdown",
      "metadata": {
        "id": "view-in-github",
        "colab_type": "text"
      },
      "source": [
        "[View in Colaboratory](https://colab.research.google.com/github/hroatti/Python/blob/master/ScriptDownload.ipynb)"
      ]
    },
    {
      "metadata": {
        "id": "KQohrTPfd33h",
        "colab_type": "text"
      },
      "cell_type": "markdown",
      "source": [
        "**Com esse Script seremos capazes de realizar download de informações em série de uma fonte Open Source.\n",
        "Inicialmente, iremos importar os pacotes que irão nos auxiliar nessa tarefa...**"
      ]
    },
    {
      "metadata": {
        "id": "K-YJpoDceMID",
        "colab_type": "code",
        "colab": {}
      },
      "cell_type": "code",
      "source": [
        "#biblioteca responsável por acessar as URL's realizando o download\n",
        "import urllib\n",
        "from urllib.request import urlretrieve #Python 3.x\n",
        "#biblioteca responsável por verifiar se a URL informada está disponível\n",
        "import requests\n",
        "'''biblioteca responsável por disparar uma exceção, caso a requisição não \n",
        "obtenha resposta satisfatória - Error 404 Page Don\\'t Found - por exemplo'''\n",
        "from requests.exceptions import HTTPError"
      ],
      "execution_count": 0,
      "outputs": []
    },
    {
      "metadata": {
        "id": "tV1zO16EvKTz",
        "colab_type": "text"
      },
      "cell_type": "markdown",
      "source": [
        "**Montando a URL inicial**"
      ]
    },
    {
      "metadata": {
        "id": "h_y3m5AskJy5",
        "colab_type": "code",
        "colab": {}
      },
      "cell_type": "code",
      "source": [
        "initURL = \"Caminho da Fonte de Dados\"\n",
        "initURI = \"Caminho do Recurso\""
      ],
      "execution_count": 0,
      "outputs": []
    },
    {
      "metadata": {
        "id": "fxbRctXEvh4s",
        "colab_type": "text"
      },
      "cell_type": "markdown",
      "source": [
        "**Você poderá criar um loop e gerar automáticamente os links dos arquivos a serem baixados. Entretanto, pode ocorrer de algum recurso estar indisponível. Para tanto, faz-se necessário validar a disponibilidade do recurso e, caso esteja disponível, concluir o download. Caso contrário, será exibido apenas um aviso ao usuário de que o recursos não se encontra disponível.**"
      ]
    },
    {
      "metadata": {
        "id": "FToaJHYlzsaB",
        "colab_type": "code",
        "colab": {}
      },
      "cell_type": "code",
      "source": [
        "#downloadFile = urllib.URLopener() #Python 2.x\n",
        "\n",
        "for count in range(1,33):\t\n",
        "\tarquivo =  \"Nome do Arquivo Montado Automaticamente.pdf\"\n",
        "\tnomeCompleto = initURL+initURI+arquivo\n",
        "\ttry:\n",
        "\t\tr = requests.get(nomeCompleto)\n",
        "\t\tr.raise_for_status()\n",
        "\texcept HTTPError:\n",
        "\t\tprint (\"Could not download page\")\n",
        "\telse:\n",
        "\t\turlretrieve(nomeCompleto, arquivo) #Python 3.x\n",
        "    #downloadFile.retrieve(nomeCompleto, arquivo) #Python 2.x\n",
        "\t\tprint (nomeCompleto)\n",
        "\n",
        "print (\"Successful!\")"
      ],
      "execution_count": 0,
      "outputs": []
    }
  ]
}