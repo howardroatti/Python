{
 "cells": [
  {
   "cell_type": "markdown",
   "metadata": {},
   "source": [
    "<strong>Analise de Sentimentos Fazendo Join de duas bases pré-classificadas em português</strong>\n",
    "<br>\n",
    "<br>\n",
    "(1) Resenhas: https://www.linguateca.pt/Repositorio/ReLi/\n",
    "<br>\n",
    "<br>\n",
    "(2) Tweets: https://www.kaggle.com/leandrodoze/sentiment-analysis-in-portuguese\n",
    "<br>\n",
    "<br>\n",
    "<strong> Inspirador Por:</strong> (2)"
   ]
  },
  {
   "cell_type": "code",
   "execution_count": 1,
   "metadata": {},
   "outputs": [],
   "source": [
    "#Importando as bibliotecas necessárias a essa atividade\n",
    "import os\n",
    "import re\n",
    "import pandas as pd\n",
    "import numpy as np\n",
    "from sklearn.naive_bayes import MultinomialNB\n",
    "from sklearn.feature_extraction.text import CountVectorizer, TfidfVectorizer"
   ]
  },
  {
   "cell_type": "code",
   "execution_count": 2,
   "metadata": {},
   "outputs": [],
   "source": [
    "#Leitura dos arquivos da coleção ReLi\n",
    "base_path_reli = 'ReLi-Lex'\n",
    "train = []\n",
    "files = [os.path.join(base_path_reli, f) for f in os.listdir(base_path_reli)]\n",
    "\n",
    "for file in files:\n",
    "    t = 'pos' if '_Positivos' in file else 'neg'\n",
    "    with open(file, 'r') as content_file:\n",
    "        content = content_file.read()\n",
    "        all = re.findall('\\[.*?\\]',content)\n",
    "        for w in all:\n",
    "            train.append((w[1:-1], t))"
   ]
  },
  {
   "cell_type": "code",
   "execution_count": 3,
   "metadata": {},
   "outputs": [],
   "source": [
    "#Transformação da coleção ReLi em dicionário, substituindo o rótulo neg para Negativo e pos para Positivo\n",
    "#Dessa forma, os rótulos serão igualados a outra coleção\n",
    "train_dict = {}\n",
    "for x, y in train:\n",
    "    if y == \"neg\":\n",
    "        train_dict[x] = \"Negativo\"\n",
    "    elif y == \"pos\":\n",
    "        train_dict[x] = \"Positivo\""
   ]
  },
  {
   "cell_type": "code",
   "execution_count": 4,
   "metadata": {},
   "outputs": [
    {
     "name": "stdout",
     "output_type": "stream",
     "text": [
      "<class 'dict'> 597\n"
     ]
    }
   ],
   "source": [
    "#Para efeitos de estudo, é sempre bom saber com o que estamos lidando\n",
    "print(type(train_dict), len(train_dict))"
   ]
  },
  {
   "cell_type": "code",
   "execution_count": 5,
   "metadata": {},
   "outputs": [
    {
     "data": {
      "text/html": [
       "<div>\n",
       "<style scoped>\n",
       "    .dataframe tbody tr th:only-of-type {\n",
       "        vertical-align: middle;\n",
       "    }\n",
       "\n",
       "    .dataframe tbody tr th {\n",
       "        vertical-align: top;\n",
       "    }\n",
       "\n",
       "    .dataframe thead th {\n",
       "        text-align: right;\n",
       "    }\n",
       "</style>\n",
       "<table border=\"1\" class=\"dataframe\">\n",
       "  <thead>\n",
       "    <tr style=\"text-align: right;\">\n",
       "      <th></th>\n",
       "      <th>Text</th>\n",
       "      <th>Classificacao</th>\n",
       "    </tr>\n",
       "  </thead>\n",
       "  <tbody>\n",
       "    <tr>\n",
       "      <th>0</th>\n",
       "      <td>aborrecente</td>\n",
       "      <td>Negativo</td>\n",
       "    </tr>\n",
       "    <tr>\n",
       "      <th>1</th>\n",
       "      <td>anacrônico</td>\n",
       "      <td>Negativo</td>\n",
       "    </tr>\n",
       "    <tr>\n",
       "      <th>2</th>\n",
       "      <td>besta</td>\n",
       "      <td>Negativo</td>\n",
       "    </tr>\n",
       "    <tr>\n",
       "      <th>3</th>\n",
       "      <td>bizarro</td>\n",
       "      <td>Negativo</td>\n",
       "    </tr>\n",
       "    <tr>\n",
       "      <th>4</th>\n",
       "      <td>bobo</td>\n",
       "      <td>Negativo</td>\n",
       "    </tr>\n",
       "  </tbody>\n",
       "</table>\n",
       "</div>"
      ],
      "text/plain": [
       "          Text Classificacao\n",
       "0  aborrecente      Negativo\n",
       "1   anacrônico      Negativo\n",
       "2        besta      Negativo\n",
       "3      bizarro      Negativo\n",
       "4         bobo      Negativo"
      ]
     },
     "execution_count": 5,
     "metadata": {},
     "output_type": "execute_result"
    }
   ],
   "source": [
    "#Transformando a coleção do ReLi em dataFrame\n",
    "df_resenhas = pd.DataFrame(data=[[item[0], item[1]] for item in train_dict.items()], columns=['Text', 'Classificacao'])\n",
    "df_resenhas.head()"
   ]
  },
  {
   "cell_type": "code",
   "execution_count": 6,
   "metadata": {},
   "outputs": [
    {
     "data": {
      "text/plain": [
       "Text             8199\n",
       "Classificacao    8199\n",
       "dtype: int64"
      ]
     },
     "execution_count": 6,
     "metadata": {},
     "output_type": "execute_result"
    }
   ],
   "source": [
    "#Leitura dos Tweets rotulados para análise de sentimentos\n",
    "df_tweets = pd.read_csv('Tweets_Mg.csv',encoding='utf-8', usecols=[\"Text\", \"Classificacao\"])\n",
    "df_tweets.count()"
   ]
  },
  {
   "cell_type": "code",
   "execution_count": 7,
   "metadata": {},
   "outputs": [
    {
     "data": {
      "text/html": [
       "<div>\n",
       "<style scoped>\n",
       "    .dataframe tbody tr th:only-of-type {\n",
       "        vertical-align: middle;\n",
       "    }\n",
       "\n",
       "    .dataframe tbody tr th {\n",
       "        vertical-align: top;\n",
       "    }\n",
       "\n",
       "    .dataframe thead th {\n",
       "        text-align: right;\n",
       "    }\n",
       "</style>\n",
       "<table border=\"1\" class=\"dataframe\">\n",
       "  <thead>\n",
       "    <tr style=\"text-align: right;\">\n",
       "      <th></th>\n",
       "      <th>Text</th>\n",
       "      <th>Classificacao</th>\n",
       "    </tr>\n",
       "  </thead>\n",
       "  <tbody>\n",
       "    <tr>\n",
       "      <th>0</th>\n",
       "      <td>���⛪ @ Catedral de Santo Antônio - Governador ...</td>\n",
       "      <td>Neutro</td>\n",
       "    </tr>\n",
       "    <tr>\n",
       "      <th>1</th>\n",
       "      <td>� @ Governador Valadares, Minas Gerais https:/...</td>\n",
       "      <td>Neutro</td>\n",
       "    </tr>\n",
       "    <tr>\n",
       "      <th>2</th>\n",
       "      <td>�� @ Governador Valadares, Minas Gerais https:...</td>\n",
       "      <td>Neutro</td>\n",
       "    </tr>\n",
       "    <tr>\n",
       "      <th>3</th>\n",
       "      <td>��� https://t.co/BnDsO34qK0</td>\n",
       "      <td>Neutro</td>\n",
       "    </tr>\n",
       "    <tr>\n",
       "      <th>4</th>\n",
       "      <td>��� PSOL vai questionar aumento de vereadores ...</td>\n",
       "      <td>Negativo</td>\n",
       "    </tr>\n",
       "  </tbody>\n",
       "</table>\n",
       "</div>"
      ],
      "text/plain": [
       "                                                Text Classificacao\n",
       "0  ���⛪ @ Catedral de Santo Antônio - Governador ...        Neutro\n",
       "1  � @ Governador Valadares, Minas Gerais https:/...        Neutro\n",
       "2  �� @ Governador Valadares, Minas Gerais https:...        Neutro\n",
       "3                        ��� https://t.co/BnDsO34qK0        Neutro\n",
       "4  ��� PSOL vai questionar aumento de vereadores ...      Negativo"
      ]
     },
     "execution_count": 7,
     "metadata": {},
     "output_type": "execute_result"
    }
   ],
   "source": [
    "#Verificando como estão os nossos dados\n",
    "df_tweets.head()"
   ]
  },
  {
   "cell_type": "code",
   "execution_count": 8,
   "metadata": {},
   "outputs": [
    {
     "name": "stdout",
     "output_type": "stream",
     "text": [
      "========== Tweets Neutros ==========\n",
      "Text             2453\n",
      "Classificacao    2453\n",
      "dtype: int64\n",
      "\n",
      "========== Tweets Positivos ==========\n",
      "Text             3300\n",
      "Classificacao    3300\n",
      "dtype: int64\n",
      "\n",
      "========== Tweets Negativos ==========\n",
      "Text             2446\n",
      "Classificacao    2446\n",
      "dtype: int64\n"
     ]
    }
   ],
   "source": [
    "#Realizando a contagem de cada classe, em outros trabalhos talvez seja interessante ter classes balanceadas.\n",
    "qtd_neutros   = df_tweets[df_tweets.Classificacao == \"Neutro\"]\n",
    "qtd_positivos = df_tweets[df_tweets.Classificacao == 'Positivo']\n",
    "qtd_negativos = df_tweets[df_tweets.Classificacao == 'Negativo']\n",
    "print(10*\"=\",\"Tweets Neutros\",10*\"=\")\n",
    "print(qtd_neutros.count())\n",
    "print()\n",
    "\n",
    "print(10*\"=\",\"Tweets Positivos\",10*\"=\")\n",
    "print(qtd_positivos.count())\n",
    "print()\n",
    "\n",
    "print(10*\"=\",\"Tweets Negativos\",10*\"=\")\n",
    "print(qtd_negativos.count())"
   ]
  },
  {
   "cell_type": "code",
   "execution_count": 9,
   "metadata": {},
   "outputs": [],
   "source": [
    "#Concatenando os dois DataSets\n",
    "frames = [df_resenhas, df_tweets]\n",
    "train_set = pd.concat(frames)"
   ]
  },
  {
   "cell_type": "code",
   "execution_count": 10,
   "metadata": {},
   "outputs": [
    {
     "data": {
      "text/html": [
       "<div>\n",
       "<style scoped>\n",
       "    .dataframe tbody tr th:only-of-type {\n",
       "        vertical-align: middle;\n",
       "    }\n",
       "\n",
       "    .dataframe tbody tr th {\n",
       "        vertical-align: top;\n",
       "    }\n",
       "\n",
       "    .dataframe thead th {\n",
       "        text-align: right;\n",
       "    }\n",
       "</style>\n",
       "<table border=\"1\" class=\"dataframe\">\n",
       "  <thead>\n",
       "    <tr style=\"text-align: right;\">\n",
       "      <th></th>\n",
       "      <th>Text</th>\n",
       "      <th>Classificacao</th>\n",
       "    </tr>\n",
       "  </thead>\n",
       "  <tbody>\n",
       "    <tr>\n",
       "      <th>count</th>\n",
       "      <td>8796</td>\n",
       "      <td>8796</td>\n",
       "    </tr>\n",
       "    <tr>\n",
       "      <th>unique</th>\n",
       "      <td>6362</td>\n",
       "      <td>3</td>\n",
       "    </tr>\n",
       "    <tr>\n",
       "      <th>top</th>\n",
       "      <td>RT @AnaPaulaVolei: Mais 2 helicópteros!!A cara...</td>\n",
       "      <td>Positivo</td>\n",
       "    </tr>\n",
       "    <tr>\n",
       "      <th>freq</th>\n",
       "      <td>300</td>\n",
       "      <td>3679</td>\n",
       "    </tr>\n",
       "  </tbody>\n",
       "</table>\n",
       "</div>"
      ],
      "text/plain": [
       "                                                     Text Classificacao\n",
       "count                                                8796          8796\n",
       "unique                                               6362             3\n",
       "top     RT @AnaPaulaVolei: Mais 2 helicópteros!!A cara...      Positivo\n",
       "freq                                                  300          3679"
      ]
     },
     "execution_count": 10,
     "metadata": {},
     "output_type": "execute_result"
    }
   ],
   "source": [
    "#Descrever a coleção ajuda a compreender possíveis melhorias\n",
    "train_set.describe()"
   ]
  },
  {
   "cell_type": "code",
   "execution_count": 11,
   "metadata": {},
   "outputs": [
    {
     "data": {
      "text/html": [
       "<div>\n",
       "<style scoped>\n",
       "    .dataframe tbody tr th:only-of-type {\n",
       "        vertical-align: middle;\n",
       "    }\n",
       "\n",
       "    .dataframe tbody tr th {\n",
       "        vertical-align: top;\n",
       "    }\n",
       "\n",
       "    .dataframe thead th {\n",
       "        text-align: right;\n",
       "    }\n",
       "</style>\n",
       "<table border=\"1\" class=\"dataframe\">\n",
       "  <thead>\n",
       "    <tr style=\"text-align: right;\">\n",
       "      <th></th>\n",
       "      <th>Text</th>\n",
       "      <th>Classificacao</th>\n",
       "    </tr>\n",
       "  </thead>\n",
       "  <tbody>\n",
       "    <tr>\n",
       "      <th>count</th>\n",
       "      <td>6362</td>\n",
       "      <td>6362</td>\n",
       "    </tr>\n",
       "    <tr>\n",
       "      <th>unique</th>\n",
       "      <td>6362</td>\n",
       "      <td>3</td>\n",
       "    </tr>\n",
       "    <tr>\n",
       "      <th>top</th>\n",
       "      <td>Banco do Brasil cobra de Minas R$ 1,5 bilhão e...</td>\n",
       "      <td>Positivo</td>\n",
       "    </tr>\n",
       "    <tr>\n",
       "      <th>freq</th>\n",
       "      <td>1</td>\n",
       "      <td>3219</td>\n",
       "    </tr>\n",
       "  </tbody>\n",
       "</table>\n",
       "</div>"
      ],
      "text/plain": [
       "                                                     Text Classificacao\n",
       "count                                                6362          6362\n",
       "unique                                               6362             3\n",
       "top     Banco do Brasil cobra de Minas R$ 1,5 bilhão e...      Positivo\n",
       "freq                                                    1          3219"
      ]
     },
     "execution_count": 11,
     "metadata": {},
     "output_type": "execute_result"
    }
   ],
   "source": [
    "#Como observado a duplicade de de registros, foi necessário a remoção de registros duplicados.\n",
    "train_set.drop_duplicates(subset='Text', inplace=True)\n",
    "train_set.describe()"
   ]
  },
  {
   "cell_type": "code",
   "execution_count": 12,
   "metadata": {},
   "outputs": [
    {
     "data": {
      "text/html": [
       "<div>\n",
       "<style scoped>\n",
       "    .dataframe tbody tr th:only-of-type {\n",
       "        vertical-align: middle;\n",
       "    }\n",
       "\n",
       "    .dataframe tbody tr th {\n",
       "        vertical-align: top;\n",
       "    }\n",
       "\n",
       "    .dataframe thead th {\n",
       "        text-align: right;\n",
       "    }\n",
       "</style>\n",
       "<table border=\"1\" class=\"dataframe\">\n",
       "  <thead>\n",
       "    <tr style=\"text-align: right;\">\n",
       "      <th></th>\n",
       "      <th>Text</th>\n",
       "      <th>Classificacao</th>\n",
       "    </tr>\n",
       "  </thead>\n",
       "  <tbody>\n",
       "    <tr>\n",
       "      <th>count</th>\n",
       "      <td>6362</td>\n",
       "      <td>6362</td>\n",
       "    </tr>\n",
       "    <tr>\n",
       "      <th>unique</th>\n",
       "      <td>6362</td>\n",
       "      <td>3</td>\n",
       "    </tr>\n",
       "    <tr>\n",
       "      <th>top</th>\n",
       "      <td>Banco do Brasil cobra de Minas R$ 1,5 bilhão e...</td>\n",
       "      <td>Positivo</td>\n",
       "    </tr>\n",
       "    <tr>\n",
       "      <th>freq</th>\n",
       "      <td>1</td>\n",
       "      <td>3219</td>\n",
       "    </tr>\n",
       "  </tbody>\n",
       "</table>\n",
       "</div>"
      ],
      "text/plain": [
       "                                                     Text Classificacao\n",
       "count                                                6362          6362\n",
       "unique                                               6362             3\n",
       "top     Banco do Brasil cobra de Minas R$ 1,5 bilhão e...      Positivo\n",
       "freq                                                    1          3219"
      ]
     },
     "execution_count": 12,
     "metadata": {},
     "output_type": "execute_result"
    }
   ],
   "source": [
    "#Por desencargo de conciência, realizei a remoção de registros nulos, mas não resultou em nada\n",
    "train_set.dropna(inplace=True)\n",
    "train_set.describe()"
   ]
  },
  {
   "cell_type": "code",
   "execution_count": 13,
   "metadata": {},
   "outputs": [
    {
     "name": "stdout",
     "output_type": "stream",
     "text": [
      "========== Tweets Neutros ==========\n",
      "Text             1974\n",
      "Classificacao    1974\n",
      "dtype: int64\n",
      "\n",
      "========== Tweets Positivos ==========\n",
      "Text             3219\n",
      "Classificacao    3219\n",
      "dtype: int64\n",
      "\n",
      "========== Tweets Negativos ==========\n",
      "Text             1169\n",
      "Classificacao    1169\n",
      "dtype: int64\n"
     ]
    }
   ],
   "source": [
    "#Recontando os registros por classe, agora com a coleção concatenada e higienizada\n",
    "qtd_neutros   = train_set[train_set.Classificacao == \"Neutro\"]\n",
    "qtd_positivos = train_set[train_set.Classificacao == 'Positivo']\n",
    "qtd_negativos = train_set[train_set.Classificacao == 'Negativo']\n",
    "print(10*\"=\",\"Tweets Neutros\",10*\"=\")\n",
    "print(qtd_neutros.count())\n",
    "print()\n",
    "\n",
    "print(10*\"=\",\"Tweets Positivos\",10*\"=\")\n",
    "print(qtd_positivos.count())\n",
    "print()\n",
    "\n",
    "print(10*\"=\",\"Tweets Negativos\",10*\"=\")\n",
    "print(qtd_negativos.count())"
   ]
  },
  {
   "cell_type": "code",
   "execution_count": 14,
   "metadata": {},
   "outputs": [
    {
     "data": {
      "text/html": [
       "<div>\n",
       "<style scoped>\n",
       "    .dataframe tbody tr th:only-of-type {\n",
       "        vertical-align: middle;\n",
       "    }\n",
       "\n",
       "    .dataframe tbody tr th {\n",
       "        vertical-align: top;\n",
       "    }\n",
       "\n",
       "    .dataframe thead th {\n",
       "        text-align: right;\n",
       "    }\n",
       "</style>\n",
       "<table border=\"1\" class=\"dataframe\">\n",
       "  <thead>\n",
       "    <tr style=\"text-align: right;\">\n",
       "      <th></th>\n",
       "      <th>Text</th>\n",
       "      <th>Classificacao</th>\n",
       "    </tr>\n",
       "  </thead>\n",
       "  <tbody>\n",
       "    <tr>\n",
       "      <th>count</th>\n",
       "      <td>6362</td>\n",
       "      <td>6362</td>\n",
       "    </tr>\n",
       "    <tr>\n",
       "      <th>unique</th>\n",
       "      <td>6361</td>\n",
       "      <td>3</td>\n",
       "    </tr>\n",
       "    <tr>\n",
       "      <th>top</th>\n",
       "      <td>E governo ainda quer indenizar a família dos b...</td>\n",
       "      <td>Positivo</td>\n",
       "    </tr>\n",
       "    <tr>\n",
       "      <th>freq</th>\n",
       "      <td>2</td>\n",
       "      <td>3219</td>\n",
       "    </tr>\n",
       "  </tbody>\n",
       "</table>\n",
       "</div>"
      ],
      "text/plain": [
       "                                                     Text Classificacao\n",
       "count                                                6362          6362\n",
       "unique                                               6361             3\n",
       "top     E governo ainda quer indenizar a família dos b...      Positivo\n",
       "freq                                                    2          3219"
      ]
     },
     "execution_count": 14,
     "metadata": {},
     "output_type": "execute_result"
    }
   ],
   "source": [
    "# Remoção de Acentos e Caracteres Especiais - Padronização de Texto\\n\n",
    "dicionario_traducao = {'#': '', '{': '', '}': '', '>': '', '<': '', ',': '', ';': '',\n",
    "                       '\\\"': '','@': '','&': '','®': '','¿': '','!': '','/': '','-':''}\n",
    "train_set.replace(dicionario_traducao, regex=True, inplace=True)\n",
    "train_set.describe()"
   ]
  },
  {
   "cell_type": "markdown",
   "metadata": {},
   "source": [
    "# Naive Bayes"
   ]
  },
  {
   "cell_type": "code",
   "execution_count": 15,
   "metadata": {},
   "outputs": [
    {
     "data": {
      "text/plain": [
       "0.9057142857142857"
      ]
     },
     "execution_count": 15,
     "metadata": {},
     "output_type": "execute_result"
    }
   ],
   "source": [
    "from sklearn.model_selection import train_test_split\n",
    "from sklearn.model_selection import GridSearchCV\n",
    "\n",
    "#Criação do modelo\n",
    "from sklearn.pipeline import make_pipeline\n",
    "modelo = make_pipeline(TfidfVectorizer(analyzer = \"word\"),\n",
    "                       MultinomialNB())\n",
    "\n",
    "classifier = GridSearchCV(estimator=modelo, \n",
    "                          param_grid={\n",
    "                              'multinomialnb__alpha':[0.1, 0.5, 1.0], \n",
    "                              'multinomialnb__fit_prior':[True,False], \n",
    "                              'tfidfvectorizer__ngram_range':[(1,1), (1,2), (2,2)]\n",
    "                          },                           \n",
    "                          n_jobs=4,\n",
    "                          cv=10)\n",
    "\n",
    "X = train_set['Text']\n",
    "y = train_set['Classificacao']\n",
    "\n",
    "X_train, X_test, y_train, y_test = train_test_split(X, y, test_size=0.33, random_state=42)\n",
    "\n",
    "classifier.fit(X_train, y_train)\n",
    "\n",
    "predicoes = classifier.predict(X_test)\n",
    "\n",
    "np.mean(predicoes == y_test)"
   ]
  },
  {
   "cell_type": "code",
   "execution_count": 16,
   "metadata": {},
   "outputs": [
    {
     "name": "stdout",
     "output_type": "stream",
     "text": [
      "              precision    recall  f1-score   support\n",
      "\n",
      "    Negativo       0.89      0.76      0.82       411\n",
      "      Neutro       0.89      0.91      0.90       628\n",
      "    Positivo       0.92      0.96      0.94      1061\n",
      "\n",
      "    accuracy                           0.91      2100\n",
      "   macro avg       0.90      0.88      0.89      2100\n",
      "weighted avg       0.91      0.91      0.90      2100\n",
      "\n",
      "\n",
      "Melhores Parâmetros: {'multinomialnb__alpha': 0.1, 'multinomialnb__fit_prior': True, 'tfidfvectorizer__ngram_range': (1, 2)}\n"
     ]
    }
   ],
   "source": [
    "from sklearn import metrics\n",
    "print(metrics.classification_report(y_test, predicoes))\n",
    "print()\n",
    "print(\"Melhores Parâmetros:\", classifier.best_params_)"
   ]
  },
  {
   "cell_type": "code",
   "execution_count": 17,
   "metadata": {},
   "outputs": [
    {
     "data": {
      "text/plain": [
       "['SentimentAnalysisNB.pkl']"
      ]
     },
     "execution_count": 17,
     "metadata": {},
     "output_type": "execute_result"
    }
   ],
   "source": [
    "#Persistindo o modelo para publicação futura em uma API\n",
    "from joblib import dump, load\n",
    "dump(classifier, 'SentimentAnalysisNB.pkl')"
   ]
  },
  {
   "cell_type": "code",
   "execution_count": 18,
   "metadata": {},
   "outputs": [
    {
     "name": "stdout",
     "output_type": "stream",
     "text": [
      "0 \t Negativo \t [0.46097559 0.42890592 0.11011849]\n",
      "1 \t Neutro \t [0.19683529 0.6857719  0.1173928 ]\n",
      "2 \t Neutro \t [0.11851488 0.61981471 0.26167041]\n",
      "3 \t Neutro \t [0.23275545 0.74383508 0.02340947]\n",
      "4 \t Negativo \t [0.63853877 0.06794565 0.29351558]\n",
      "5 \t Positivo \t [0.22854476 0.35588412 0.41557112]\n"
     ]
    }
   ],
   "source": [
    "#Reabrindo o modelo e validando em algumas frases\n",
    "modelo = load('SentimentAnalysisNB.pkl')\n",
    "\n",
    "validacao = [\"Existem muitas formas de se aprender, basta querer.\",\n",
    "          \"Há dias que o trabalho é muito cansativo.\", \n",
    "          \"Hoje não estou muito bem\",\n",
    "          \"Depois do culto você vai ver\",\n",
    "          \"Vestidos de heróis dos pés a cabeça para levar um pouco de conhecimento para a humanidade\",\n",
    "          \"A Net é muito boa, tem um excelente serviço de telefonia, sucesso de vendas\"\n",
    "         ]\n",
    "resultado = modelo.predict(validacao)\n",
    "predicted_proba = modelo.predict_proba(validacao)\n",
    "for i in range(len(validacao)):\n",
    "    print(str(i),\"\\t\",resultado[i],\"\\t\",predicted_proba[i])"
   ]
  },
  {
   "cell_type": "markdown",
   "metadata": {},
   "source": [
    "# Random Forest"
   ]
  },
  {
   "cell_type": "code",
   "execution_count": 19,
   "metadata": {},
   "outputs": [
    {
     "data": {
      "text/plain": [
       "0.7395238095238095"
      ]
     },
     "execution_count": 19,
     "metadata": {},
     "output_type": "execute_result"
    }
   ],
   "source": [
    "from sklearn.ensemble import RandomForestClassifier\n",
    "from sklearn.model_selection import train_test_split\n",
    "from sklearn.model_selection import GridSearchCV\n",
    "\n",
    "#Criação do modelo\n",
    "from sklearn.pipeline import make_pipeline\n",
    "modelo = make_pipeline(TfidfVectorizer(analyzer = \"word\"),\n",
    "                       RandomForestClassifier(n_jobs=4, random_state=12))\n",
    "\n",
    "classifier = GridSearchCV(estimator=modelo, \n",
    "                          param_grid={\n",
    "                              'randomforestclassifier__criterion':['gini', 'entropy'], \n",
    "                              'randomforestclassifier__bootstrap':[True,False], \n",
    "                              'randomforestclassifier__n_estimators':range(1,11), \n",
    "                              'randomforestclassifier__max_depth':range(8,11),\n",
    "                              'randomforestclassifier__class_weight':['balanced','balanced_subsample'],\n",
    "                              'tfidfvectorizer__ngram_range':[(1,1), (1,2), (2,2)]\n",
    "                          },\n",
    "                          n_jobs=4,\n",
    "                          cv=10)\n",
    "\n",
    "X = train_set['Text']\n",
    "y = train_set['Classificacao']\n",
    "\n",
    "X_train, X_test, y_train, y_test = train_test_split(X, y, test_size=0.33, random_state=42)\n",
    "\n",
    "classifier.fit(X_train, y_train)\n",
    "\n",
    "predicoes = classifier.predict(X_test)\n",
    "\n",
    "np.mean(predicoes == y_test)"
   ]
  },
  {
   "cell_type": "code",
   "execution_count": 20,
   "metadata": {},
   "outputs": [
    {
     "name": "stdout",
     "output_type": "stream",
     "text": [
      "              precision    recall  f1-score   support\n",
      "\n",
      "    Negativo       0.78      0.63      0.70       411\n",
      "      Neutro       0.57      0.76      0.65       628\n",
      "    Positivo       0.88      0.77      0.82      1061\n",
      "\n",
      "    accuracy                           0.74      2100\n",
      "   macro avg       0.74      0.72      0.72      2100\n",
      "weighted avg       0.77      0.74      0.75      2100\n",
      "\n",
      "\n",
      "Melhores Parâmetros: {'randomforestclassifier__bootstrap': False, 'randomforestclassifier__class_weight': 'balanced', 'randomforestclassifier__criterion': 'entropy', 'randomforestclassifier__max_depth': 9, 'randomforestclassifier__n_estimators': 10, 'tfidfvectorizer__ngram_range': (1, 1)}\n"
     ]
    }
   ],
   "source": [
    "from sklearn import metrics\n",
    "print(metrics.classification_report(y_test, predicoes))\n",
    "print()\n",
    "print(\"Melhores Parâmetros:\", classifier.best_params_)"
   ]
  },
  {
   "cell_type": "code",
   "execution_count": 21,
   "metadata": {},
   "outputs": [
    {
     "data": {
      "text/plain": [
       "['SentimentAnalysisRF.pkl']"
      ]
     },
     "execution_count": 21,
     "metadata": {},
     "output_type": "execute_result"
    }
   ],
   "source": [
    "#Persistindo o modelo para publicação futura em uma API\n",
    "from joblib import dump, load\n",
    "dump(classifier, 'SentimentAnalysisRF.pkl')"
   ]
  },
  {
   "cell_type": "code",
   "execution_count": 22,
   "metadata": {},
   "outputs": [
    {
     "name": "stdout",
     "output_type": "stream",
     "text": [
      "0 \t Neutro \t [0.32328157 0.3687935  0.30792493]\n",
      "1 \t Neutro \t [0.32328157 0.3687935  0.30792493]\n",
      "2 \t Negativo \t [0.37914925 0.33605563 0.28479512]\n",
      "3 \t Neutro \t [0.30666577 0.41290992 0.2804243 ]\n",
      "4 \t Positivo \t [0.27513599 0.33948954 0.38537447]\n",
      "5 \t Neutro \t [0.32328157 0.3687935  0.30792493]\n"
     ]
    }
   ],
   "source": [
    "#Reabrindo o modelo e validando em algumas frases\n",
    "modelo = load('SentimentAnalysisRF.pkl')\n",
    "\n",
    "validacao = [\"Existem muitas formas de se aprender, basta querer.\",\n",
    "          \"Há dias que o trabalho é muito cansativo.\", \n",
    "          \"Hoje não estou muito bem\",\n",
    "          \"Depois do culto você vai ver\",\n",
    "          \"Vestidos de heróis dos pés a cabeça para levar um pouco de conhecimento para a humanidade\",\n",
    "          \"A Net é muito boa, tem um excelente serviço de telefonia, sucesso de vendas\"\n",
    "         ]\n",
    "resultado = modelo.predict(validacao)\n",
    "predicted_proba = modelo.predict_proba(validacao)\n",
    "for i in range(len(validacao)):\n",
    "    print(str(i),\"\\t\",resultado[i],\"\\t\",predicted_proba[i])"
   ]
  },
  {
   "cell_type": "markdown",
   "metadata": {},
   "source": [
    "<p> Como podemos ver, ainda há a necessidade de se realizar o Tunning desse modelo, talvez alterando até mesmo a forma de se classificar.</p>\n",
    "<p> Ao invés de deixá-lo aplicar a classificação automática, utilizar uma função que valide as probabilidades antes de decidir.</p>\n",
    "<p> Pois como podemos ver no caso das duas primeiras sentenças, o algoritmo ficou com dúvida e aplicou a primeira classe.</p>\n",
    "<p> Entretanto, para a análise de sentimentos, a dúvida deveria gerar o rótulo Neutro</p>\n",
    "<p><strong>Dúvidas, entre em contato!</strong></p>"
   ]
  }
 ],
 "metadata": {
  "kernelspec": {
   "display_name": "Python 3",
   "language": "python",
   "name": "python3"
  },
  "language_info": {
   "codemirror_mode": {
    "name": "ipython",
    "version": 3
   },
   "file_extension": ".py",
   "mimetype": "text/x-python",
   "name": "python",
   "nbconvert_exporter": "python",
   "pygments_lexer": "ipython3",
   "version": "3.7.1"
  }
 },
 "nbformat": 4,
 "nbformat_minor": 4
}
