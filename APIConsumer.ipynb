{
 "cells": [
  {
   "cell_type": "markdown",
   "metadata": {},
   "source": [
    "<a href=\"mailto:howardcruzroatti@gmail.com\">Prof. M.Sc. Howard Roatti</a>\n",
    "\n",
    "Com o objetivo de trabalhar com APIs em Python, precisamos de ferramentas que realizem todas as requisições. A biblioteca mais comum em Python para esse tipo de tarefa é <b>requests</b>. A API <b>requests</b> não é nativa do Python, então você precisará instalá-la, caso já não tenha feito para poder iniciar. Você poderá instalar utilizando um dos comandos a seguir:\n",
    "\n",
    "<code>pip install requests</code>\n",
    "<br>\n",
    "<code>conda install requests</code>\n",
    "\n",
    "Geralmente, as APIs Rest retornam para o requisitante um documento do tipo <i>JSON</i>. Para podermos usufruir de todas as funcionalidades, o Python possui uma biblioteca chamada json a qual fornece algumas ferramentas para trabalhar com esse tipo de documento. Caso não possua essa biblioteca, utilize um dos comandos a seguir para instalá-la.\n",
    "\n",
    "<code>pip install json</code>\n",
    "<br>\n",
    "<code>conda install json</code>\n",
    "\n",
    "Feito isso, basta importar as duas bibliotecas para dentro de seu projeto para poder utilizá-las"
   ]
  },
  {
   "cell_type": "code",
   "execution_count": null,
   "metadata": {},
   "outputs": [],
   "source": [
    "import requests\n",
    "import json\n",
    "\n",
    "'''\n",
    "   Para esse projeto em específico, utilizaremos a biblioteca datetime para poder realizar \n",
    "   um impressão formatada de um dos dados recebidos via JSON\n",
    "'''\n",
    "from datetime import datetime"
   ]
  },
  {
   "cell_type": "markdown",
   "metadata": {},
   "source": [
    "A <b>NASA</b>, agência espacial norte-americana, possui um portal que disponibiliza uma API <i>Open Source</i> com alguns dados interessantes sobre o espaço e naves espaciais. Nesse projeto, iremos consumir os dados dos astronautas no espaço nesse momento (http://api.open-notify.org/astros.json) e a previsão de quando a estação espacial estará passando por determinada região da terra (http://api.open-notify.org/iss-pass.json)\n",
    "\n",
    "No passo a seguir iremos utilizar o método <i>get</i> para recuperar as informações dos astronautas no espaço nesse momento. Em seguida iremos verificar o status dessa solicitação. As possíveis respostas para essa requisição são:\n",
    "<ul>\n",
    "    <li>200: Tudo correu bem, e o resultado foi retornado (se houver).</li>\n",
    "    <li>301: O servidor está redirecionando você para um terminal diferente. Isso pode acontecer quando uma empresa alterna nomes de domínio ou um nome de terminal é alterado.</li>\n",
    "    <li>400: O servidor acha que você fez uma solicitação incorreta. Isso pode acontecer quando você não envia os dados corretos, entre outras coisas.</li>\n",
    "    <li>401: O servidor acha que você não está autenticado. Muitas APIs exigem credenciais de login, portanto, isso acontece quando você não envia as credenciais corretas para acessar uma API.</li>\n",
    "    <li>403: O recurso que você está tentando acessar é proibido: você não tem as permissões corretas para vê-lo.</li>\n",
    "    <li>404: O recurso que você tentou acessar não foi encontrado no servidor.</li>\n",
    "    <li>503: O servidor não está pronto para lidar com a solicitação.</li>\n",
    "</ul>"
   ]
  },
  {
   "cell_type": "code",
   "execution_count": null,
   "metadata": {},
   "outputs": [],
   "source": [
    "response = requests.get(\"http://api.open-notify.org/astros.json\")\n",
    "print(response.status_code)"
   ]
  },
  {
   "cell_type": "markdown",
   "metadata": {},
   "source": [
    "Caso o código de retorno do status seja 200, teremos um documento <i>JSON</i> com as informações dos astronautas e iremos imprimir o resultado."
   ]
  },
  {
   "cell_type": "code",
   "execution_count": null,
   "metadata": {},
   "outputs": [],
   "source": [
    "print(response.json())"
   ]
  },
  {
   "cell_type": "markdown",
   "metadata": {},
   "source": [
    "Aparentemente, os dados recuperados vem num formato de dicionário (objeto <i>dict</i> da linguagem Python). Podemos criar uma função que transforma esse retorno numa forma melhor legível, através do método <i>dumps</i>, passando alguns parâmetros de identação e ordenação."
   ]
  },
  {
   "cell_type": "code",
   "execution_count": null,
   "metadata": {},
   "outputs": [],
   "source": [
    "def jsonprint(obj):\n",
    "    text = json.dumps(obj, sort_keys=True, indent=4)\n",
    "    print(text)"
   ]
  },
  {
   "cell_type": "code",
   "execution_count": null,
   "metadata": {},
   "outputs": [],
   "source": [
    "#Nesse passo iremos invocar o método recém criado para exibir seu resultado formatado.\n",
    "jsonprint(response.json())"
   ]
  },
  {
   "cell_type": "markdown",
   "metadata": {},
   "source": [
    "Algumas APIs permitem que realizemos consultas parametrizadas, é o caso da API que prediz quando a estação espacial estará passando por determinado ponto na terra. Para esse exemplo, iremos criar uma variável denominada parameters e passaremos a latitude e longitude da cidade de Nova York."
   ]
  },
  {
   "cell_type": "code",
   "execution_count": null,
   "metadata": {},
   "outputs": [],
   "source": [
    "parameters = {\n",
    "    \"lat\": 40.71,\n",
    "    \"lon\": -74\n",
    "}"
   ]
  },
  {
   "cell_type": "markdown",
   "metadata": {},
   "source": [
    "Após criar o parâmetro para a personalização da consulta, utilizaremos novamente o método <i>get</i>, porém adicionaremos a cláusula params apontando para nossa variável parameters. Iremos exibir os resultados obtidos utilizando a função criada para formatação do <i>JSON</i>."
   ]
  },
  {
   "cell_type": "code",
   "execution_count": null,
   "metadata": {},
   "outputs": [],
   "source": [
    "response = requests.get(\"http://api.open-notify.org/iss-pass.json\", params=parameters)\n",
    "jsonprint(response.json())"
   ]
  },
  {
   "cell_type": "markdown",
   "metadata": {},
   "source": [
    "A partir dos resultados obtidos, iremos exibir apenas a duração e a hora em que a estação espacial estiver sobre os parâmetros informados, esses dados estão dispostos a partir da chave <i>response</i>"
   ]
  },
  {
   "cell_type": "code",
   "execution_count": null,
   "metadata": {},
   "outputs": [],
   "source": [
    "pass_times = response.json()['response']\n",
    "jsonprint(pass_times)"
   ]
  },
  {
   "cell_type": "code",
   "execution_count": null,
   "metadata": {},
   "outputs": [],
   "source": [
    "#Nesse passo, criaremos uma lista apenas com os dados do horário de passagem e exibiremos da forma que fora recuperado\n",
    "risetimes = []\n",
    "\n",
    "for d in pass_times:\n",
    "    time = d['risetime']\n",
    "    risetimes.append(time)\n",
    "\n",
    "print(risetimes)"
   ]
  },
  {
   "cell_type": "code",
   "execution_count": null,
   "metadata": {},
   "outputs": [],
   "source": [
    "#Já nesse passo, iremos formatar os dados do horário de passagem da estação espacial para algo mais inteligível aos humanos\n",
    "times = []\n",
    "\n",
    "for rt in risetimes:\n",
    "    time = datetime.fromtimestamp(rt)\n",
    "    times.append(time)\n",
    "    print(time)"
   ]
  },
  {
   "cell_type": "markdown",
   "metadata": {},
   "source": [
    "Dessa forma, concluímos um exemplo simples de realizar requests em uma API disponível para consultas. Ainda há muito a se fazer a partir daqui, mas já auxilia em atividades mais simples.\n",
    "\n",
    "Fonte: https://www.dataquest.io/blog/python-api-tutorial/"
   ]
  }
 ],
 "metadata": {
  "kernelspec": {
   "display_name": "Python 3",
   "language": "python",
   "name": "python3"
  },
  "language_info": {
   "codemirror_mode": {
    "name": "ipython",
    "version": 3
   },
   "file_extension": ".py",
   "mimetype": "text/x-python",
   "name": "python",
   "nbconvert_exporter": "python",
   "pygments_lexer": "ipython3",
   "version": "3.6.5"
  }
 },
 "nbformat": 4,
 "nbformat_minor": 2
}
